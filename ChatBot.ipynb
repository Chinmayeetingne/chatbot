{
 "cells": [
  {
   "cell_type": "code",
   "execution_count": null,
   "id": "063a3e9c-b2dd-4b38-87f1-bd8f69051d80",
   "metadata": {},
   "outputs": [],
   "source": []
  }
 ],
 "metadata": {
  "kernelspec": {
   "display_name": "",
   "name": ""
  },
  "language_info": {
   "name": ""
  }
 },
 "nbformat": 4,
 "nbformat_minor": 5
}
