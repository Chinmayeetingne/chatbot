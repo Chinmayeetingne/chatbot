{
 "cells": [
  {
   "cell_type": "code",
   "execution_count": 2,
   "id": "063a3e9c-b2dd-4b38-87f1-bd8f69051d80",
   "metadata": {},
   "outputs": [
    {
     "name": "stderr",
     "output_type": "stream",
     "text": [
      "2025-06-11 13:46:43.295 \n",
      "  \u001b[33m\u001b[1mWarning:\u001b[0m to view this Streamlit app on a browser, run it with the following\n",
      "  command:\n",
      "\n",
      "    streamlit run C:\\Users\\Lenovo\\anaconda3\\Lib\\site-packages\\ipykernel_launcher.py [ARGUMENTS]\n",
      "2025-06-11 13:46:43.309 Session state does not function when running a script without `streamlit run`\n"
     ]
    }
   ],
   "source": [
    "\n",
    "import streamlit as st\n",
    "from langchain_groq import ChatGroq\n",
    "from langchain_core.messages import SystemMessage, HumanMessage, AIMessage\n",
    "from dotenv import load_dotenv\n",
    "import os\n",
    "\n",
    "st.set_page_config(page_title=\"🧠 Chatbot\")\n",
    "\n",
    "# --- Load Environment ---\n",
    "load_dotenv()\n",
    "GROQ_API_KEY = os.getenv(\"GROQ_API_KEY\", \"gsk*************************************\")  # Replace with secure loading\n",
    "\n",
    "# --- Sidebar ---\n",
    "st.sidebar.title(\"🧠 Chat Settings\")\n",
    "model_choice = st.sidebar.selectbox(\"Choose Model\", [\"llama3-70b-8192\", \"llama-3.3-70b-versatile\"])\n",
    "st.sidebar.markdown(\"💬 A Chatbot using **LangChain + Groq + Streamlit**\")\n",
    "\n",
    "if st.sidebar.button(\"🧹 Clear Chat\"):\n",
    "    st.session_state.chat_history = [SystemMessage(content=\"You are a helpful assistant.\")]\n",
    "    st.rerun()\n",
    "\n",
    "# --- Initialize Model ---\n",
    "model = ChatGroq(\n",
    "    model=model_choice,\n",
    "    groq_api_key=GROQ_API_KEY\n",
    ")\n",
    "\n",
    "# --- Page Setup ---\n",
    "\n",
    "st.title(\"🧠 LangBotX\")\n",
    "\n",
    "# --- Session State ---\n",
    "if \"chat_history\" not in st.session_state:\n",
    "    st.session_state.chat_history = [SystemMessage(content=\"You are a helpful assistant.\")]\n",
    "\n",
    "# --- Chat Input ---\n",
    "user_input = st.chat_input(\"Type your message here...\")\n",
    "\n",
    "if user_input:\n",
    "    st.session_state.chat_history.append(HumanMessage(content=user_input))\n",
    "\n",
    "    with st.chat_message(\"user\", avatar=\"🧑‍💻\"):\n",
    "        st.markdown(user_input)\n",
    "\n",
    "    # Response from LLM\n",
    "    response = model.invoke(st.session_state.chat_history)\n",
    "    st.session_state.chat_history.append(AIMessage(content=response.content))\n",
    "\n",
    "    with st.chat_message(\"assistant\", avatar=\"🤖\"):\n",
    "        st.markdown(response.content)\n",
    "\n",
    "# --- Show Chat History (Optional Toggle) ---\n",
    "with st.expander(\"📝 Show Full Chat History\"):\n",
    "    for msg in st.session_state.chat_history:\n",
    "        role = \"User\" if isinstance(msg, HumanMessage) else \"Assistant\" if isinstance(msg, AIMessage) else \"System\"\n",
    "        st.markdown(f\"**{role}:** {msg.content}\")\n"
   ]
  },
  {
   "cell_type": "code",
   "execution_count": null,
   "id": "6dfde6bc-f31a-4ee0-a838-2983d53ac16d",
   "metadata": {},
   "outputs": [],
   "source": []
  }
 ],
 "metadata": {
  "kernelspec": {
   "display_name": "Python 3 (ipykernel)",
   "language": "python",
   "name": "python3"
  },
  "language_info": {
   "codemirror_mode": {
    "name": "ipython",
    "version": 3
   },
   "file_extension": ".py",
   "mimetype": "text/x-python",
   "name": "python",
   "nbconvert_exporter": "python",
   "pygments_lexer": "ipython3",
   "version": "3.12.7"
  }
 },
 "nbformat": 4,
 "nbformat_minor": 5
}
